{
 "cells": [
  {
   "cell_type": "code",
   "execution_count": 2,
   "id": "6f309657",
   "metadata": {},
   "outputs": [],
   "source": [
    "# Import necessary libraries and create SomnofyAPISession object\n",
    "from requests import Session\n",
    "from urllib.parse import urljoin\n",
    "import pandas as pd\n",
    "\n",
    "class SomnofyAPISession(Session):\n",
    "    def __init__(self, base_url=None, auth=None, verify=True, *args, **kwargs):\n",
    "        super(SomnofyAPISession, self).__init__(*args, **kwargs)\n",
    "        self.base_url = base_url\n",
    "        self.auth = auth\n",
    "        self.verify = verify\n",
    "\n",
    "    def request(self, method, url, *args, **kwargs):\n",
    "        url = urljoin(self.base_url, url)\n",
    "        return super(SomnofyAPISession, self).request(method, url, auth=self.auth, verify=self.verify, *args, **kwargs)\n"
   ]
  },
  {
   "cell_type": "code",
   "execution_count": 3,
   "id": "6400bbcd",
   "metadata": {},
   "outputs": [],
   "source": [
    "USERNAME = 'cathy.wyse@mu.ie'\n",
    "PASSWORD = 'Istabraq1'"
   ]
  },
  {
   "cell_type": "code",
   "execution_count": null,
   "id": "22735c25",
   "metadata": {},
   "outputs": [],
   "source": [
    "\n"
   ]
  },
  {
   "cell_type": "code",
   "execution_count": 11,
   "id": "28869237",
   "metadata": {},
   "outputs": [
    {
     "ename": "KeyError",
     "evalue": "'hypnogram'",
     "output_type": "error",
     "traceback": [
      "\u001b[1;31m---------------------------------------------------------------------------\u001b[0m",
      "\u001b[1;31mKeyError\u001b[0m                                  Traceback (most recent call last)",
      "\u001b[1;32m~\\AppData\\Local\\Temp/ipykernel_15772/125508477.py\u001b[0m in \u001b[0;36m<module>\u001b[1;34m\u001b[0m\n\u001b[0;32m     26\u001b[0m \u001b[1;33m\u001b[0m\u001b[0m\n\u001b[0;32m     27\u001b[0m         \u001b[0msensor_data\u001b[0m \u001b[1;33m=\u001b[0m \u001b[0msession\u001b[0m\u001b[1;33m[\u001b[0m\u001b[1;34m'_embedded'\u001b[0m\u001b[1;33m]\u001b[0m\u001b[1;33m[\u001b[0m\u001b[1;34m'sleep_analysis'\u001b[0m\u001b[1;33m]\u001b[0m\u001b[1;33m[\u001b[0m\u001b[1;34m'epoch_data'\u001b[0m\u001b[1;33m]\u001b[0m  \u001b[1;31m# Sensor data (30s resolution)\u001b[0m\u001b[1;33m\u001b[0m\u001b[1;33m\u001b[0m\u001b[0m\n\u001b[1;32m---> 28\u001b[1;33m         \u001b[0mhypnogram\u001b[0m \u001b[1;33m=\u001b[0m \u001b[0msession\u001b[0m\u001b[1;33m[\u001b[0m\u001b[1;34m'_embedded'\u001b[0m\u001b[1;33m]\u001b[0m\u001b[1;33m[\u001b[0m\u001b[1;34m'sleep_analysis'\u001b[0m\u001b[1;33m]\u001b[0m\u001b[1;33m[\u001b[0m\u001b[1;34m'hypnogram'\u001b[0m\u001b[1;33m]\u001b[0m     \u001b[1;31m# Sleep stages (30s resolution)\u001b[0m\u001b[1;33m\u001b[0m\u001b[1;33m\u001b[0m\u001b[0m\n\u001b[0m\u001b[0;32m     29\u001b[0m \u001b[1;33m\u001b[0m\u001b[0m\n\u001b[0;32m     30\u001b[0m \u001b[1;33m\u001b[0m\u001b[0m\n",
      "\u001b[1;31mKeyError\u001b[0m: 'hypnogram'"
     ]
    }
   ],
   "source": [
    "# Initialize SomnofyAPISession\n",
    "SAS = SomnofyAPISession('https://partner.api.somnofy.com', (USERNAME, PASSWORD))\n",
    "\n",
    "# Get users from superuser\n",
    "users = SAS.get('/v1/users', params={'limit': 100}).json()\n",
    "\n",
    "\n",
    "#find the id you want\n",
    "for user in users['_embedded']['users']:\n",
    "    if user['display_name'] == 'Cathy Wyse':\n",
    "        cathy = user['id']\n",
    "\n",
    "# Get sessions from user\n",
    "for user in users['_embedded']['users']:\n",
    "    # Epoch data cannot be embedded in a call with multiple sessions, only report\n",
    "    sessions = SAS.get('/v1/sessions', params={'user_id': cathy,\n",
    "                                               'limit': 100000,\n",
    "                                               'embed':'sleep_analysis.report'}).json()\n",
    "    \n",
    "     # Get session details\n",
    "    for session in sessions['_embedded']['sessions']:\n",
    "        # Session must be requested one by one with session and user_id to get 30s data\n",
    "        session = SAS.get('/v1/sessions/{}'.format(session['session_id']), \n",
    "                          params={'user_id':cathy,\n",
    "                                  'embed':['sleep_analysis.epoch_data']}).json()\n",
    "                                   \n",
    "        sensor_data = session['_embedded']['sleep_analysis']['epoch_data']  # Sensor data (30s resolution)\n",
    "        hypnogram = session['_embedded']['sleep_analysis']['hypnogram']     # Sleep stages (30s resolution)\n",
    "                     \n",
    "     \n",
    "       \n",
    "    "
   ]
  },
  {
   "cell_type": "code",
   "execution_count": 170,
   "id": "524495be",
   "metadata": {},
   "outputs": [],
   "source": [
    "# Initialize SomnofyAPISession\n",
    "#SAS = SomnofyAPISession('https://partner.api.somnofy.com', (USERNAME, PASSWORD))\n",
    "\n",
    "# Get users from superuser\n",
    "#users = SAS.get('/v1/users/user_id/{USER_ID}').json()\n",
    "\n",
    "  \n",
    "#print(users.content)\n",
    "import pandas as pd\n",
    "import pprint as pp\n",
    "\n",
    "mydata=(session['_embedded']['sleep_analysis']['epoch_data'])\n",
    "#pp.pp(mydata)\n",
    "table= pd.DataFrame.from_dict(mydata,orient='index')\n",
    "table=table.T\n",
    "table.to_csv('out.csv')\n",
    "#df = pd.DataFrame(mydata)\n",
    "#print(df)\n",
    "#pp.pp(users['_embedded']['users'][1])"
   ]
  },
  {
   "cell_type": "code",
   "execution_count": 5,
   "id": "36c7b8df",
   "metadata": {},
   "outputs": [
    {
     "ename": "NameError",
     "evalue": "name 'hypnogram' is not defined",
     "output_type": "error",
     "traceback": [
      "\u001b[1;31m---------------------------------------------------------------------------\u001b[0m",
      "\u001b[1;31mNameError\u001b[0m                                 Traceback (most recent call last)",
      "\u001b[1;32m~\\AppData\\Local\\Temp/ipykernel_15772/2304746055.py\u001b[0m in \u001b[0;36m<module>\u001b[1;34m\u001b[0m\n\u001b[0;32m      6\u001b[0m \u001b[1;33m\u001b[0m\u001b[0m\n\u001b[0;32m      7\u001b[0m \u001b[1;31m#define the variables to extract from each key, epoch data, hypnogram and report\u001b[0m\u001b[1;33m\u001b[0m\u001b[1;33m\u001b[0m\u001b[0m\n\u001b[1;32m----> 8\u001b[1;33m \u001b[0mtime\u001b[0m\u001b[1;33m=\u001b[0m\u001b[0mhypnogram\u001b[0m\u001b[1;33m[\u001b[0m\u001b[1;34m'timestamp'\u001b[0m\u001b[1;33m]\u001b[0m  \u001b[1;31m#from hypnogram only timestamp\u001b[0m\u001b[1;33m\u001b[0m\u001b[1;33m\u001b[0m\u001b[0m\n\u001b[0m\u001b[0;32m      9\u001b[0m \u001b[0mmovement\u001b[0m\u001b[1;33m=\u001b[0m\u001b[0msensor_data\u001b[0m\u001b[1;33m[\u001b[0m\u001b[1;34m'movement_mean'\u001b[0m\u001b[1;33m]\u001b[0m\u001b[1;33m\u001b[0m\u001b[1;33m\u001b[0m\u001b[0m\n\u001b[0;32m     10\u001b[0m \u001b[0mlight\u001b[0m\u001b[1;33m=\u001b[0m\u001b[0msensor_data\u001b[0m\u001b[1;33m[\u001b[0m\u001b[1;34m'light_ambient'\u001b[0m\u001b[1;33m]\u001b[0m\u001b[1;33m\u001b[0m\u001b[1;33m\u001b[0m\u001b[0m\n",
      "\u001b[1;31mNameError\u001b[0m: name 'hypnogram' is not defined"
     ]
    }
   ],
   "source": [
    "#this is data from one session only\n",
    "\n",
    "Sensor_data:['distance_mean', 'movement_mean', 'respiration_rate_mean', 'respiration_rate_var_mean', 'heart_rate_mean', 'heart_rate_var', 'external_heart_rate_mean', 'external_heart_rate_var', 'external_spo2_mean', 'external_spo2_var', 'signal_quality_mean', 'sound_amplitude', 'temperature_ambient', 'time_offset']\n",
    "Hypnogram:['sleep_stage', 'reliability', 'timestamp', 'timestamp_utc']\n",
    "Report:['epoch_count', 'session_start', 'relative_session_start', 'ems_report_start', 'session_end', 'time_at_last_epoch', 'time_at_intended_sleep', 'time_in_undefined', 'time_at_sleep', 'time_at_wakeup', 'sleep_onset', 'time_in_bed', 'time_asleep', 'sleep_efficiency', 'time_in_light_sleep', 'time_in_rem_sleep', 'time_in_deep_sleep', 'time_in_no_presence', 'number_of_times_no_presence', 'time_wake_after_sleep_onset', 'number_of_times_awake', 'number_of_times_awake_long', 'time_wake_pre_post_sleep', 'sleep_onset_rem_period', 'sleep_mean_movement', 'non_rem_mean_rpm', 'non_rem_mean_heartrate', 'non_rem_mean_external_heartrate', 'epochs_with_movement_pct', 'sleep_score_1', 'external_spo2_mean', 'air_pressure_mean', 'light_ambient_mean', 'sound_amplitude_mean', 'temperature_mean', 'indoor_air_quality_mean', 'air_humidity_mean', 'time_offset_at_intended_sleep', 'time_offset_at_intended_wakeup', 'time_offset_at_sleep', 'time_offset_at_wakeup']\n",
    "\n",
    "#define the variables to extract from each key, epoch data, hypnogram and report\n",
    "time=hypnogram['timestamp']  #from hypnogram only timestamp\n",
    "movement=sensor_data['movement_mean']\n",
    "light=sensor_data['light_ambient']\n",
    "sound=sensor_data['sound_amplitude']\n",
    "temperature=sensor_data['temperature_ambient']\n",
    "\n",
    "#check they are all the same length\n",
    "#len(sound)==len(light)==len(temperature)==len(movement)==len(time)\n",
    "\n",
    "#make a dataset\n",
    "data=zip(time, light, movement, sound, temperature)\n",
    "data=(tuple(data))\n",
    "df = pd.DataFrame(data)\n",
    "type(sound)\n",
    "\n"
   ]
  },
  {
   "cell_type": "code",
   "execution_count": 109,
   "id": "e0c1e65e",
   "metadata": {},
   "outputs": [
    {
     "data": {
      "text/plain": [
       "4635"
      ]
     },
     "execution_count": 109,
     "metadata": {},
     "output_type": "execute_result"
    }
   ],
   "source": [
    "#for data in my_data:\n",
    "\n",
    "#time=time.append(time)\n",
    "type(time)\n",
    "x=light+light+light\n",
    "len(x)\n",
    "#print(x)\n",
    "#light=light.append(light)\n",
    "#df = pd.DataFrame({'Time': time, 'Light': light})\n",
    "#print(time)"
   ]
  },
  {
   "cell_type": "code",
   "execution_count": 59,
   "id": "fbfc23a1",
   "metadata": {},
   "outputs": [
    {
     "data": {
      "image/png": "[encoded data removed]",
      "text/plain": [
       "<Figure size 432x288 with 1 Axes>"
      ]
     },
     "metadata": {},
     "output_type": "display_data"
    },
    {
     "data": {
      "image/png": "[encoded data removed]",
      "text/plain": [
       "<Figure size 432x288 with 1 Axes>"
      ]
     },
     "metadata": {},
     "output_type": "display_data"
    },
    {
     "data": {
      "image/png": "[encoded data removed]",
      "text/plain": [
       "<Figure size 432x288 with 1 Axes>"
      ]
     },
     "metadata": {},
     "output_type": "display_data"
    }
   ],
   "source": [
    "%matplotlib inline\n",
    "import pandas as pd\n",
    "from matplotlib.dates import DateFormatter\n",
    "\n",
    "import matplotlib.pyplot as plt\n",
    "plt.style.use('seaborn-whitegrid')\n",
    "import numpy as np\n",
    "\n",
    "df = pd.DataFrame(data, columns = ['time','light','movement', 'sound', 'temperature'])\n",
    "\n",
    "#convert time portion to datetime\n",
    "df['time'] = pd.to_datetime(df['time'].str.split().str[-1])\n",
    "type(df['time'])\n",
    "\n",
    "# plot light\n",
    "lightplot = df.plot.line(x='time', y='light')\n",
    "\n",
    "#reformat ticks as HH:MM\n",
    "hh_mm = DateFormatter('%H:%M')\n",
    "lightplot.xaxis.set_major_formatter(hh_mm)\n",
    "\n",
    "#plot sound\n",
    "soundplot = df.plot.line(x='time', y='sound')\n",
    "soundplot.xaxis.set_major_formatter(hh_mm)\n",
    "\n",
    "#plot temperature\n",
    "tempplot = df.plot.line(x='time', y='temperature')\n",
    "tempplot.xaxis.set_major_formatter(hh_mm)\n"
   ]
  },
  {
   "cell_type": "code",
   "execution_count": null,
   "id": "3f5f73c8",
   "metadata": {},
   "outputs": [],
   "source": [
    "#get all session and append to dataframe\n",
    "\n",
    "sensor_data = sens\n",
    "\n",
    "# Get session details\n",
    "for session in sessions['_embedded']['sessions']:\n",
    "   # Session must be requested one by one with session and user_id to get 30s data\n",
    "    session = SAS.get('/v1/sessions/{}'.format(session['session_id']), \n",
    "              params={'user_id':user['id'], 'embed':['sleep_analysis.hypnogram',\n",
    "                                                     'sleep_analysis.epoch_data',\n",
    "                                                     'sleep_analysis.report']}).json()\n",
    "                                   \n",
    "     sensor_data = session['_embedded']['sleep_analysis']['epoch_data']  # Sensor data (30s resolution)\n",
    "     hypnogram = session['_embedded']['sleep_analysis']['hypnogram']     # Sleep stages (30s resolution)\n",
    "     report = session['_embedded']['sleep_analysis']['report']           # Report for the night (nightly resolution)\n",
    "    data1.loc[len(data1)] = new\n",
    "print(data1) \n",
    "    \n",
    "break\n",
    "df_list = []\n",
    "for url in urls:\n",
    "    data = requests.get(url)\n",
    "    data_json = data.json()\n",
    "\n",
    "    df = pd.DataFrame(data_json['query']['results']['quote'])\n",
    "    df_list.append(df)\n",
    "\n",
    "quote_df = pd.concat(df_list)\n",
    "quote_df.to_csv('stocks.csv')"
   ]
  },
  {
   "cell_type": "code",
   "execution_count": 52,
   "id": "3aae99aa",
   "metadata": {},
   "outputs": [
    {
     "ename": "SyntaxError",
     "evalue": "'return' outside function (Temp/ipykernel_17652/1606296656.py, line 18)",
     "output_type": "error",
     "traceback": [
      "\u001b[1;36m  File \u001b[1;32m\"C:\\Users\\cwyse\\AppData\\Local\\Temp/ipykernel_17652/1606296656.py\"\u001b[1;36m, line \u001b[1;32m18\u001b[0m\n\u001b[1;33m    return data\u001b[0m\n\u001b[1;37m    ^\u001b[0m\n\u001b[1;31mSyntaxError\u001b[0m\u001b[1;31m:\u001b[0m 'return' outside function\n"
     ]
    }
   ],
   "source": [
    "data1 = pd.DataFrame({'time':(),'temperature':()})\n",
    "#print(data1)\n",
    "data=[]\n",
    "#make a dataset\n",
    "for session in sessions['_embedded']['sessions']:\n",
    "        # Session must be requested one by one with session and user_id to get 30s data\n",
    "        session = SAS.get('/v1/sessions/{}'.format(session['session_id']), \n",
    "                          params={'user_id':user['id'], 'embed':['sleep_analysis.hypnogram',\n",
    "                                                                 'sleep_analysis.epoch_data',\n",
    "                                                                 'sleep_analysis.report']}).json()\n",
    "                                   \n",
    "        sensor_data = session['_embedded']['sleep_analysis']['epoch_data']  # Sensor data (30s resolution)\n",
    "        hypnogram = session['_embedded']['sleep_analysis']['hypnogram']     # Sleep stages (30s resolution)\n",
    "        time=hypnogram['timestamp']  #from hypnogram only timestamp\n",
    "        temperature=sensor_data['temperature_ambient']\n",
    "        data=tuple(zip(time,temperature))\n",
    "        #data1.append(data)\n",
    "        return data\n",
    "                     \n",
    "\n",
    "data = []\n",
    "for i in range(5):\n",
    "    data.append(dict(zip(time, temperature)))\n",
    "df = pd.DataFrame(data)\n",
    "print(df)"
   ]
  },
  {
   "cell_type": "code",
   "execution_count": 57,
   "id": "dd5eefb9",
   "metadata": {},
   "outputs": [
    {
     "name": "stdout",
     "output_type": "stream",
     "text": [
      "Empty DataFrame\n",
      "Columns: []\n",
      "Index: []\n"
     ]
    }
   ],
   "source": [
    "import numpy as np\n",
    "np.random.seed(2015)\n",
    "data = []\n",
    "for session in sessions['_embedded']['sessions']:\n",
    "    \n",
    "        session = SAS.get('/v1/sessions/{}'.format(session['session_id']), \n",
    "                          params={'user_id':user['id'], 'embed':['sleep_analysis.hypnogram',\n",
    "                                                                 'sleep_analysis.epoch_data',\n",
    "                                                                 'sleep_analysis.report']}).json()\n",
    "                                   \n",
    "        \n",
    "        time = session['_embedded']['sleep_analysis']['hypnogram']['timestamp']     # time 30s\n",
    "        temperature = session['_embedded']['sleep_analysis']['epoch_data']['temperature_ambient']\n",
    "        data.append(dict(zip(time, temperature)))\n",
    "df = pd.DataFrame(data)\n",
    "print(df)"
   ]
  },
  {
   "cell_type": "code",
   "execution_count": null,
   "id": "b932b563",
   "metadata": {},
   "outputs": [],
   "source": [
    "GET /v1/sessions"
   ]
  },
  {
   "cell_type": "code",
   "execution_count": 66,
   "id": "2558b31f",
   "metadata": {},
   "outputs": [],
   "source": [
    "mydata = SAS.get('/v1/sessions/{}')"
   ]
  },
  {
   "cell_type": "code",
   "execution_count": 67,
   "id": "ac280f40",
   "metadata": {},
   "outputs": [
    {
     "name": "stdout",
     "output_type": "stream",
     "text": [
      "<Response [404]>\n"
     ]
    }
   ],
   "source": [
    "print(mydata)"
   ]
  },
  {
   "cell_type": "code",
   "execution_count": null,
   "id": "bbb57fae",
   "metadata": {},
   "outputs": [],
   "source": []
  }
 ],
 "metadata": {
  "kernelspec": {
   "display_name": "Python 3 (ipykernel)",
   "language": "python",
   "name": "python3"
  },
  "language_info": {
   "codemirror_mode": {
    "name": "ipython",
    "version": 3
   },
   "file_extension": ".py",
   "mimetype": "text/x-python",
   "name": "python",
   "nbconvert_exporter": "python",
   "pygments_lexer": "ipython3",
   "version": "3.9.7"
  }
 },
 "nbformat": 4,
 "nbformat_minor": 5
}
